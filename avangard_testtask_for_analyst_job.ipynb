{
 "cells": [
  {
   "cell_type": "markdown",
   "metadata": {},
   "source": [
    "Тестовое задание на позицию “Аналитик данных”\n",
    " \n",
    "Имеется набор данных. Необходимо проанализировать его и представить ответы на вопросы с визуализацией каждого пункта.\n",
    " Ссылка: https://docs.google.com/spreadsheets/d/1DkdhWMrVjtflQfmCIKl8hCjSlIxph1L42_fgyFo0QPs/edit?usp=sharing\n",
    " \n",
    "Задание 1\n",
    " а) Какие подгруппы товаров наиболее часто покупают за все время продаж (минимум 4 группы)?\n",
    " б) Какие подгруппы товаров наиболее часто покупают за последние два года (минимум 4 группы)?\n",
    " в) Какие подгруппы товаров наиболее часто покупают за последний год(минимум 4 группы)?\n",
    "\n",
    " Подгруппа – Sub-Category\n",
    " Дата – Order_date\n",
    " Сделать вывод на основе полученных результатов.\n",
    "\n",
    " Задание 2\n",
    " Построить boxplot («Ящик с усами») на основе продаж (Sales). Найти мажоритарную черту (т.е. избавиться от аномалий и представить четкую картину распределения величин).\n",
    " Можно использовать правило трех сигм. Однако любые другие решения приветствуются.\n",
    "\n",
    " Задание 3\n",
    " Для этого задания необходимо разбить все покупки на энное количество групп “Sale_group” (Допустим маленькие продажи, средние и высокие) на основе Sales\n",
    "Сгруппировать данные на основе региона и группы продаж (Region, Sale_group). Определить основные тенденции и паттерны. Выделить наиболее «прибыльную» группу.\n",
    "\n",
    " Замечания: Работу лучше выполнить в jupyter и там же написать выводы по каждому заданию. После выполнения загрузите код на github.\n",
    "\n",
    "\n"
   ]
  },
  {
   "cell_type": "code",
   "execution_count": 1,
   "metadata": {},
   "outputs": [],
   "source": [
    "import pandas as pd\n",
    "import numpy as np\n",
    "import matplotlib.pyplot as plt\n",
    "import seaborn as sns\n",
    "import os"
   ]
  },
  {
   "cell_type": "code",
   "execution_count": 5,
   "metadata": {},
   "outputs": [
    {
     "name": "stdout",
     "output_type": "stream",
     "text": [
      "     ID Order Date     Class       Region Sub-Category     Sales\n",
      "0   646 2018-12-30  Стандарт         Урал   Appliances  37229.08\n",
      "1   907 2018-12-30  Стандарт  Владивосток    Bookcases  20994.61\n",
      "2   908 2018-12-30  Стандарт  Владивосток       Phones  42133.86\n",
      "3   909 2018-12-30  Стандарт  Владивосток      Binders  10612.00\n",
      "4  1297 2018-12-30  Стандарт   Калиниград      Binders  28781.13\n"
     ]
    }
   ],
   "source": [
    "pth1 = 'qwerty_df_testtask_for_analyst_job.xlsx'\n",
    "pth2 = '...'\n",
    "if os.path.isfile(pth1):\n",
    "    df = pd.read_excel(pth1, parse_dates=['Order Date'])\n",
    "    print(df.head())\n",
    "elif os.path.exists(pth2):\n",
    "    df = pd.read_excel(pth2, parse_dates=['Order Date'])\n",
    "    print(df.head())\n",
    "else: print('File not found')"
   ]
  },
  {
   "cell_type": "code",
   "execution_count": 6,
   "metadata": {},
   "outputs": [
    {
     "name": "stdout",
     "output_type": "stream",
     "text": [
      "<class 'pandas.core.frame.DataFrame'>\n",
      "RangeIndex: 9800 entries, 0 to 9799\n",
      "Data columns (total 6 columns):\n",
      " #   Column        Non-Null Count  Dtype         \n",
      "---  ------        --------------  -----         \n",
      " 0   ID            9800 non-null   int64         \n",
      " 1   Order Date    9800 non-null   datetime64[ns]\n",
      " 2   Class         9800 non-null   object        \n",
      " 3   Region        9800 non-null   object        \n",
      " 4   Sub-Category  9800 non-null   object        \n",
      " 5   Sales         9800 non-null   float64       \n",
      "dtypes: datetime64[ns](1), float64(1), int64(1), object(3)\n",
      "memory usage: 459.5+ KB\n"
     ]
    }
   ],
   "source": [
    "df.info()"
   ]
  },
  {
   "cell_type": "code",
   "execution_count": 7,
   "metadata": {},
   "outputs": [
    {
     "data": {
      "text/html": [
       "<div>\n",
       "<style scoped>\n",
       "    .dataframe tbody tr th:only-of-type {\n",
       "        vertical-align: middle;\n",
       "    }\n",
       "\n",
       "    .dataframe tbody tr th {\n",
       "        vertical-align: top;\n",
       "    }\n",
       "\n",
       "    .dataframe thead th {\n",
       "        text-align: right;\n",
       "    }\n",
       "</style>\n",
       "<table border=\"1\" class=\"dataframe\">\n",
       "  <thead>\n",
       "    <tr style=\"text-align: right;\">\n",
       "      <th></th>\n",
       "      <th>ID</th>\n",
       "      <th>Order Date</th>\n",
       "      <th>Class</th>\n",
       "      <th>Region</th>\n",
       "      <th>Sub-Category</th>\n",
       "      <th>Sales</th>\n",
       "    </tr>\n",
       "  </thead>\n",
       "  <tbody>\n",
       "    <tr>\n",
       "      <th>count</th>\n",
       "      <td>9800.000000</td>\n",
       "      <td>9800</td>\n",
       "      <td>9800</td>\n",
       "      <td>9800</td>\n",
       "      <td>9800</td>\n",
       "      <td>9800.000000</td>\n",
       "    </tr>\n",
       "    <tr>\n",
       "      <th>unique</th>\n",
       "      <td>NaN</td>\n",
       "      <td>NaN</td>\n",
       "      <td>4</td>\n",
       "      <td>4</td>\n",
       "      <td>17</td>\n",
       "      <td>NaN</td>\n",
       "    </tr>\n",
       "    <tr>\n",
       "      <th>top</th>\n",
       "      <td>NaN</td>\n",
       "      <td>NaN</td>\n",
       "      <td>Стандарт</td>\n",
       "      <td>Калиниград</td>\n",
       "      <td>Binders</td>\n",
       "      <td>NaN</td>\n",
       "    </tr>\n",
       "    <tr>\n",
       "      <th>freq</th>\n",
       "      <td>NaN</td>\n",
       "      <td>NaN</td>\n",
       "      <td>5859</td>\n",
       "      <td>3140</td>\n",
       "      <td>1492</td>\n",
       "      <td>NaN</td>\n",
       "    </tr>\n",
       "    <tr>\n",
       "      <th>mean</th>\n",
       "      <td>4900.500000</td>\n",
       "      <td>2017-05-01 05:13:51.673469184</td>\n",
       "      <td>NaN</td>\n",
       "      <td>NaN</td>\n",
       "      <td>NaN</td>\n",
       "      <td>22921.757737</td>\n",
       "    </tr>\n",
       "    <tr>\n",
       "      <th>min</th>\n",
       "      <td>1.000000</td>\n",
       "      <td>2015-01-03 00:00:00</td>\n",
       "      <td>NaN</td>\n",
       "      <td>NaN</td>\n",
       "      <td>NaN</td>\n",
       "      <td>1002.794000</td>\n",
       "    </tr>\n",
       "    <tr>\n",
       "      <th>25%</th>\n",
       "      <td>2450.750000</td>\n",
       "      <td>2016-05-24 00:00:00</td>\n",
       "      <td>NaN</td>\n",
       "      <td>NaN</td>\n",
       "      <td>NaN</td>\n",
       "      <td>12135.625000</td>\n",
       "    </tr>\n",
       "    <tr>\n",
       "      <th>50%</th>\n",
       "      <td>4900.500000</td>\n",
       "      <td>2017-06-26 00:00:00</td>\n",
       "      <td>NaN</td>\n",
       "      <td>NaN</td>\n",
       "      <td>NaN</td>\n",
       "      <td>22882.060000</td>\n",
       "    </tr>\n",
       "    <tr>\n",
       "      <th>75%</th>\n",
       "      <td>7350.250000</td>\n",
       "      <td>2018-05-15 00:00:00</td>\n",
       "      <td>NaN</td>\n",
       "      <td>NaN</td>\n",
       "      <td>NaN</td>\n",
       "      <td>33730.130000</td>\n",
       "    </tr>\n",
       "    <tr>\n",
       "      <th>max</th>\n",
       "      <td>9800.000000</td>\n",
       "      <td>2018-12-30 00:00:00</td>\n",
       "      <td>NaN</td>\n",
       "      <td>NaN</td>\n",
       "      <td>NaN</td>\n",
       "      <td>44995.410000</td>\n",
       "    </tr>\n",
       "    <tr>\n",
       "      <th>std</th>\n",
       "      <td>2829.160653</td>\n",
       "      <td>NaN</td>\n",
       "      <td>NaN</td>\n",
       "      <td>NaN</td>\n",
       "      <td>NaN</td>\n",
       "      <td>12601.999815</td>\n",
       "    </tr>\n",
       "  </tbody>\n",
       "</table>\n",
       "</div>"
      ],
      "text/plain": [
       "                 ID                     Order Date     Class      Region  \\\n",
       "count   9800.000000                           9800      9800        9800   \n",
       "unique          NaN                            NaN         4           4   \n",
       "top             NaN                            NaN  Стандарт  Калиниград   \n",
       "freq            NaN                            NaN      5859        3140   \n",
       "mean    4900.500000  2017-05-01 05:13:51.673469184       NaN         NaN   \n",
       "min        1.000000            2015-01-03 00:00:00       NaN         NaN   \n",
       "25%     2450.750000            2016-05-24 00:00:00       NaN         NaN   \n",
       "50%     4900.500000            2017-06-26 00:00:00       NaN         NaN   \n",
       "75%     7350.250000            2018-05-15 00:00:00       NaN         NaN   \n",
       "max     9800.000000            2018-12-30 00:00:00       NaN         NaN   \n",
       "std     2829.160653                            NaN       NaN         NaN   \n",
       "\n",
       "       Sub-Category         Sales  \n",
       "count          9800   9800.000000  \n",
       "unique           17           NaN  \n",
       "top         Binders           NaN  \n",
       "freq           1492           NaN  \n",
       "mean            NaN  22921.757737  \n",
       "min             NaN   1002.794000  \n",
       "25%             NaN  12135.625000  \n",
       "50%             NaN  22882.060000  \n",
       "75%             NaN  33730.130000  \n",
       "max             NaN  44995.410000  \n",
       "std             NaN  12601.999815  "
      ]
     },
     "execution_count": 7,
     "metadata": {},
     "output_type": "execute_result"
    }
   ],
   "source": [
    "df.describe(include='all')"
   ]
  },
  {
   "cell_type": "markdown",
   "metadata": {},
   "source": [
    "Задание 1\n",
    "\n",
    " а) Какие подгруппы товаров наиболее часто покупают за все время продаж (минимум 4 группы)?\n",
    "\n",
    " б) Какие подгруппы товаров наиболее часто покупают за последние два года (минимум 4 группы)?\n",
    "\n",
    " в) Какие подгруппы товаров наиболее часто покупают за последний год(минимум 4 группы)?"
   ]
  },
  {
   "cell_type": "code",
   "execution_count": 13,
   "metadata": {},
   "outputs": [],
   "source": [
    "# Какие подгруппы товаров наиболее часто покупают за все время продаж (минимум 4 группы)?\n",
    "sub_cat_pivot = df.pivot_table(index='Sub-Category', values='ID', aggfunc='count').sort_values(ascending=False, by='ID')"
   ]
  },
  {
   "cell_type": "code",
   "execution_count": 14,
   "metadata": {},
   "outputs": [
    {
     "data": {
      "text/html": [
       "<div>\n",
       "<style scoped>\n",
       "    .dataframe tbody tr th:only-of-type {\n",
       "        vertical-align: middle;\n",
       "    }\n",
       "\n",
       "    .dataframe tbody tr th {\n",
       "        vertical-align: top;\n",
       "    }\n",
       "\n",
       "    .dataframe thead th {\n",
       "        text-align: right;\n",
       "    }\n",
       "</style>\n",
       "<table border=\"1\" class=\"dataframe\">\n",
       "  <thead>\n",
       "    <tr style=\"text-align: right;\">\n",
       "      <th></th>\n",
       "      <th>ID</th>\n",
       "    </tr>\n",
       "    <tr>\n",
       "      <th>Sub-Category</th>\n",
       "      <th></th>\n",
       "    </tr>\n",
       "  </thead>\n",
       "  <tbody>\n",
       "    <tr>\n",
       "      <th>Binders</th>\n",
       "      <td>1492</td>\n",
       "    </tr>\n",
       "    <tr>\n",
       "      <th>Paper</th>\n",
       "      <td>1338</td>\n",
       "    </tr>\n",
       "    <tr>\n",
       "      <th>Furnishings</th>\n",
       "      <td>931</td>\n",
       "    </tr>\n",
       "    <tr>\n",
       "      <th>Phones</th>\n",
       "      <td>876</td>\n",
       "    </tr>\n",
       "    <tr>\n",
       "      <th>Storage</th>\n",
       "      <td>832</td>\n",
       "    </tr>\n",
       "    <tr>\n",
       "      <th>Art</th>\n",
       "      <td>785</td>\n",
       "    </tr>\n",
       "    <tr>\n",
       "      <th>Accessories</th>\n",
       "      <td>756</td>\n",
       "    </tr>\n",
       "    <tr>\n",
       "      <th>Chairs</th>\n",
       "      <td>607</td>\n",
       "    </tr>\n",
       "    <tr>\n",
       "      <th>Appliances</th>\n",
       "      <td>459</td>\n",
       "    </tr>\n",
       "    <tr>\n",
       "      <th>Labels</th>\n",
       "      <td>357</td>\n",
       "    </tr>\n",
       "    <tr>\n",
       "      <th>Tables</th>\n",
       "      <td>314</td>\n",
       "    </tr>\n",
       "    <tr>\n",
       "      <th>Envelopes</th>\n",
       "      <td>248</td>\n",
       "    </tr>\n",
       "    <tr>\n",
       "      <th>Bookcases</th>\n",
       "      <td>226</td>\n",
       "    </tr>\n",
       "    <tr>\n",
       "      <th>Fasteners</th>\n",
       "      <td>214</td>\n",
       "    </tr>\n",
       "    <tr>\n",
       "      <th>Supplies</th>\n",
       "      <td>184</td>\n",
       "    </tr>\n",
       "    <tr>\n",
       "      <th>Machines</th>\n",
       "      <td>115</td>\n",
       "    </tr>\n",
       "    <tr>\n",
       "      <th>Copiers</th>\n",
       "      <td>66</td>\n",
       "    </tr>\n",
       "  </tbody>\n",
       "</table>\n",
       "</div>"
      ],
      "text/plain": [
       "                ID\n",
       "Sub-Category      \n",
       "Binders       1492\n",
       "Paper         1338\n",
       "Furnishings    931\n",
       "Phones         876\n",
       "Storage        832\n",
       "Art            785\n",
       "Accessories    756\n",
       "Chairs         607\n",
       "Appliances     459\n",
       "Labels         357\n",
       "Tables         314\n",
       "Envelopes      248\n",
       "Bookcases      226\n",
       "Fasteners      214\n",
       "Supplies       184\n",
       "Machines       115\n",
       "Copiers         66"
      ]
     },
     "execution_count": 14,
     "metadata": {},
     "output_type": "execute_result"
    }
   ],
   "source": [
    "sub_cat_pivot"
   ]
  },
  {
   "cell_type": "code",
   "execution_count": 17,
   "metadata": {},
   "outputs": [
    {
     "data": {
      "text/plain": [
       "Sub-Category\n",
       "Binders        408\n",
       "Paper          357\n",
       "Furnishings    247\n",
       "Phones         220\n",
       "Storage        209\n",
       "Accessories    184\n",
       "Art            179\n",
       "Chairs         161\n",
       "Appliances     113\n",
       "Labels          95\n",
       "Tables          85\n",
       "Envelopes       59\n",
       "Supplies        59\n",
       "Fasteners       58\n",
       "Bookcases       54\n",
       "Machines        32\n",
       "Copiers         14\n",
       "Name: ID, dtype: int64"
      ]
     },
     "execution_count": 17,
     "metadata": {},
     "output_type": "execute_result"
    }
   ],
   "source": [
    "# Какие подгруппы товаров наиболее часто покупают за последние два года (минимум 4 группы)?\n",
    "df_2017 = df[df['Order Date'].dt.year == 2017]\n",
    "df_2018 = df[df['Order Date'].dt.year == 2018]"
   ]
  },
  {
   "cell_type": "code",
   "execution_count": 19,
   "metadata": {},
   "outputs": [
    {
     "data": {
      "text/plain": [
       "Sub-Category\n",
       "Binders        900\n",
       "Paper          809\n",
       "Furnishings    557\n",
       "Phones         510\n",
       "Storage        490\n",
       "Art            458\n",
       "Accessories    450\n",
       "Chairs         348\n",
       "Appliances     274\n",
       "Labels         208\n",
       "Tables         189\n",
       "Envelopes      130\n",
       "Bookcases      130\n",
       "Fasteners      121\n",
       "Supplies       117\n",
       "Machines        65\n",
       "Copiers         36\n",
       "Name: ID, dtype: int64"
      ]
     },
     "execution_count": 19,
     "metadata": {},
     "output_type": "execute_result"
    }
   ],
   "source": [
    "df_2017_2018 = pd.concat([df_2017, df_2018])\n",
    "\n",
    "df_2017_2018.groupby('Sub-Category')['ID'].count().sort_values(ascending=False)"
   ]
  },
  {
   "cell_type": "markdown",
   "metadata": {},
   "source": [
    " в) Какие подгруппы товаров наиболее часто покупают за последний год(минимум 4 группы)?"
   ]
  },
  {
   "cell_type": "code",
   "execution_count": 20,
   "metadata": {},
   "outputs": [
    {
     "data": {
      "text/plain": [
       "Sub-Category\n",
       "Binders        492\n",
       "Paper          452\n",
       "Furnishings    310\n",
       "Phones         290\n",
       "Storage        281\n",
       "Art            279\n",
       "Accessories    266\n",
       "Chairs         187\n",
       "Appliances     161\n",
       "Labels         113\n",
       "Tables         104\n",
       "Bookcases       76\n",
       "Envelopes       71\n",
       "Fasteners       63\n",
       "Supplies        58\n",
       "Machines        33\n",
       "Copiers         22\n",
       "Name: ID, dtype: int64"
      ]
     },
     "execution_count": 20,
     "metadata": {},
     "output_type": "execute_result"
    }
   ],
   "source": [
    "df_2018.groupby('Sub-Category')['ID'].count().sort_values(ascending=False)"
   ]
  },
  {
   "cell_type": "markdown",
   "metadata": {},
   "source": [
    "Задание 2\n",
    "\n",
    " Построить boxplot («Ящик с усами») на основе продаж (Sales). Найти мажоритарную черту (т.е. избавиться от аномалий и представить четкую картину распределения величин).\n",
    " Можно использовать правило трех сигм. Однако любые другие решения приветствуются."
   ]
  },
  {
   "cell_type": "code",
   "execution_count": 22,
   "metadata": {},
   "outputs": [],
   "source": [
    "def hist_underbox(data,title=None):\n",
    "    custom_params = {\"axes.spines.right\": False, \"axes.spines.top\": False};\n",
    "    sns.set_theme(style=\"darkgrid\", rc=custom_params);\n",
    "    sns.set_style(\"darkgrid\", {\"grid.color\": \".6\", \"grid.linestyle\": \":\"})\n",
    "    f, (ax_box, ax_hist) = plt.subplots(2, sharex=True,\n",
    "                                        gridspec_kw={\"height_ratios\": (.15, .85)})\n",
    "    sns.boxplot(x=data, ax=ax_box).set_title(title)\n",
    "    sns.histplot(x=data, ax=ax_hist, kde=True)\n",
    "    ax_box.set(yticks=[])\n",
    "    ax_box.set_xlabel(\"\")\n",
    "    ax_hist.set_ylabel(\"Количество\")\n",
    "    sns.despine(ax=ax_hist)\n",
    "    sns.despine(ax=ax_box, left=True)\n",
    "    mean = ax_hist.axvline(data.mean(), color='r', lw=2)\n",
    "    median = ax_hist.axvline(data.median(), color='k', ls='--', lw=2)\n",
    "    ax_hist.legend([mean, median], [f'Среднее значение = {round(data.mean(),2)}',\n",
    "                                    f'Медиана = {round(data.median(),2)}'],\n",
    "                                    loc='best')"
   ]
  },
  {
   "cell_type": "code",
   "execution_count": 23,
   "metadata": {},
   "outputs": [
    {
     "data": {
      "image/png": "[encoded data removed]",
      "text/plain": [
       "<Figure size 640x480 with 2 Axes>"
      ]
     },
     "metadata": {},
     "output_type": "display_data"
    }
   ],
   "source": [
    "hist_underbox(df['Sales'], title='Sales')"
   ]
  },
  {
   "cell_type": "code",
   "execution_count": 27,
   "metadata": {},
   "outputs": [
    {
     "data": {
      "text/plain": [
       "42739.35"
      ]
     },
     "execution_count": 27,
     "metadata": {},
     "output_type": "execute_result"
    }
   ],
   "source": [
    "# 95-percentile\n",
    "df['Sales'].quantile(0.95).round(2)"
   ]
  },
  {
   "cell_type": "code",
   "execution_count": 28,
   "metadata": {},
   "outputs": [
    {
     "data": {
      "text/plain": [
       "3268.7"
      ]
     },
     "execution_count": 28,
     "metadata": {},
     "output_type": "execute_result"
    }
   ],
   "source": [
    "# 5-percentile\n",
    "df['Sales'].quantile(0.05).round(2)"
   ]
  },
  {
   "cell_type": "markdown",
   "metadata": {},
   "source": [
    "Задание 3\n",
    "\n",
    " Для этого задания необходимо разбить все покупки на энное количество групп “Sale_group” (Допустим маленькие продажи, средние и высокие) на основе Sales\n",
    "Сгруппировать данные на основе региона и группы продаж (Region, Sale_group). Определить основные тенденции и паттерны. Выделить наиболее «прибыльную» группу.\n"
   ]
  },
  {
   "cell_type": "code",
   "execution_count": 31,
   "metadata": {},
   "outputs": [
    {
     "data": {
      "text/plain": [
       "['ID', 'Order Date', 'Class', 'Region', 'Sub-Category', 'Sales']"
      ]
     },
     "execution_count": 31,
     "metadata": {},
     "output_type": "execute_result"
    }
   ],
   "source": [
    "df.columns.values.tolist()"
   ]
  },
  {
   "cell_type": "code",
   "execution_count": 40,
   "metadata": {},
   "outputs": [
    {
     "name": "stdout",
     "output_type": "stream",
     "text": [
      "('Калиниград', 'Средние продажи')\n"
     ]
    }
   ],
   "source": [
    "import pandas as pd\n",
    "import numpy as np\n",
    "\n",
    "# Разделите продажи на группы \"Sale_group\"\n",
    "df['Sale_group'] = np.where(df['Sales'] < df['Sales'].quantile(0.25), 'Маленькие продажи',\n",
    "                            np.where(df['Sales'] < df['Sales'].quantile(0.75), 'Средние продажи', 'Высокие продажи'))\n",
    "\n",
    "# Группируйте данные на основе региона и группы продаж\n",
    "grouped = df.groupby(['Region', 'Sale_group'])\n",
    "\n",
    "# Вычислите основные тенденции и паттерны для каждой группы\n",
    "trends = grouped.agg({'Sales': ['mean', 'max', 'min', 'count','sum']})\n",
    "\n",
    "# Выделите наиболее \"прибыльную\" группу\n",
    "most_profitable_group = trends['Sales']['sum'].idxmax()\n",
    "\n",
    "# Возвратите результаты\n",
    "print(most_profitable_group)\n",
    "\n"
   ]
  },
  {
   "cell_type": "code",
   "execution_count": 39,
   "metadata": {},
   "outputs": [
    {
     "data": {
      "text/html": [
       "<div>\n",
       "<style scoped>\n",
       "    .dataframe tbody tr th:only-of-type {\n",
       "        vertical-align: middle;\n",
       "    }\n",
       "\n",
       "    .dataframe tbody tr th {\n",
       "        vertical-align: top;\n",
       "    }\n",
       "\n",
       "    .dataframe thead tr th {\n",
       "        text-align: left;\n",
       "    }\n",
       "\n",
       "    .dataframe thead tr:last-of-type th {\n",
       "        text-align: right;\n",
       "    }\n",
       "</style>\n",
       "<table border=\"1\" class=\"dataframe\">\n",
       "  <thead>\n",
       "    <tr>\n",
       "      <th></th>\n",
       "      <th></th>\n",
       "      <th colspan=\"5\" halign=\"left\">Sales</th>\n",
       "    </tr>\n",
       "    <tr>\n",
       "      <th></th>\n",
       "      <th></th>\n",
       "      <th>mean</th>\n",
       "      <th>max</th>\n",
       "      <th>min</th>\n",
       "      <th>count</th>\n",
       "      <th>sum</th>\n",
       "    </tr>\n",
       "    <tr>\n",
       "      <th>Region</th>\n",
       "      <th>Sale_group</th>\n",
       "      <th></th>\n",
       "      <th></th>\n",
       "      <th></th>\n",
       "      <th></th>\n",
       "      <th></th>\n",
       "    </tr>\n",
       "  </thead>\n",
       "  <tbody>\n",
       "    <tr>\n",
       "      <th rowspan=\"3\" valign=\"top\">Владивосток</th>\n",
       "      <th>Высокие продажи</th>\n",
       "      <td>39320.533162</td>\n",
       "      <td>44990.44</td>\n",
       "      <td>33754.580</td>\n",
       "      <td>718</td>\n",
       "      <td>2.823214e+07</td>\n",
       "    </tr>\n",
       "    <tr>\n",
       "      <th>Маленькие продажи</th>\n",
       "      <td>6493.573587</td>\n",
       "      <td>12103.28</td>\n",
       "      <td>1003.082</td>\n",
       "      <td>715</td>\n",
       "      <td>4.642905e+06</td>\n",
       "    </tr>\n",
       "    <tr>\n",
       "      <th>Средние продажи</th>\n",
       "      <td>22986.419349</td>\n",
       "      <td>33705.91</td>\n",
       "      <td>12147.710</td>\n",
       "      <td>1352</td>\n",
       "      <td>3.107764e+07</td>\n",
       "    </tr>\n",
       "    <tr>\n",
       "      <th rowspan=\"3\" valign=\"top\">Калиниград</th>\n",
       "      <th>Высокие продажи</th>\n",
       "      <td>39432.981997</td>\n",
       "      <td>44986.26</td>\n",
       "      <td>33746.770</td>\n",
       "      <td>756</td>\n",
       "      <td>2.981133e+07</td>\n",
       "    </tr>\n",
       "    <tr>\n",
       "      <th>Маленькие продажи</th>\n",
       "      <td>6643.589742</td>\n",
       "      <td>12124.95</td>\n",
       "      <td>1021.104</td>\n",
       "      <td>763</td>\n",
       "      <td>5.069059e+06</td>\n",
       "    </tr>\n",
       "    <tr>\n",
       "      <th>Средние продажи</th>\n",
       "      <td>22856.203800</td>\n",
       "      <td>33718.70</td>\n",
       "      <td>12145.310</td>\n",
       "      <td>1621</td>\n",
       "      <td>3.704991e+07</td>\n",
       "    </tr>\n",
       "    <tr>\n",
       "      <th rowspan=\"3\" valign=\"top\">Москва</th>\n",
       "      <th>Высокие продажи</th>\n",
       "      <td>39162.600288</td>\n",
       "      <td>44995.41</td>\n",
       "      <td>33732.890</td>\n",
       "      <td>417</td>\n",
       "      <td>1.633080e+07</td>\n",
       "    </tr>\n",
       "    <tr>\n",
       "      <th>Маленькие продажи</th>\n",
       "      <td>6449.800673</td>\n",
       "      <td>12135.04</td>\n",
       "      <td>1012.536</td>\n",
       "      <td>392</td>\n",
       "      <td>2.528322e+06</td>\n",
       "    </tr>\n",
       "    <tr>\n",
       "      <th>Средние продажи</th>\n",
       "      <td>22854.911698</td>\n",
       "      <td>33724.31</td>\n",
       "      <td>12135.820</td>\n",
       "      <td>789</td>\n",
       "      <td>1.803253e+07</td>\n",
       "    </tr>\n",
       "    <tr>\n",
       "      <th rowspan=\"3\" valign=\"top\">Урал</th>\n",
       "      <th>Высокие продажи</th>\n",
       "      <td>39252.768730</td>\n",
       "      <td>44942.31</td>\n",
       "      <td>33733.070</td>\n",
       "      <td>559</td>\n",
       "      <td>2.194230e+07</td>\n",
       "    </tr>\n",
       "    <tr>\n",
       "      <th>Маленькие продажи</th>\n",
       "      <td>6636.983200</td>\n",
       "      <td>12115.65</td>\n",
       "      <td>1002.794</td>\n",
       "      <td>580</td>\n",
       "      <td>3.849450e+06</td>\n",
       "    </tr>\n",
       "    <tr>\n",
       "      <th>Средние продажи</th>\n",
       "      <td>22905.834552</td>\n",
       "      <td>33729.21</td>\n",
       "      <td>12141.220</td>\n",
       "      <td>1138</td>\n",
       "      <td>2.606684e+07</td>\n",
       "    </tr>\n",
       "  </tbody>\n",
       "</table>\n",
       "</div>"
      ],
      "text/plain": [
       "                                      Sales                             \\\n",
       "                                       mean       max        min count   \n",
       "Region      Sale_group                                                   \n",
       "Владивосток Высокие продажи    39320.533162  44990.44  33754.580   718   \n",
       "            Маленькие продажи   6493.573587  12103.28   1003.082   715   \n",
       "            Средние продажи    22986.419349  33705.91  12147.710  1352   \n",
       "Калиниград  Высокие продажи    39432.981997  44986.26  33746.770   756   \n",
       "            Маленькие продажи   6643.589742  12124.95   1021.104   763   \n",
       "            Средние продажи    22856.203800  33718.70  12145.310  1621   \n",
       "Москва      Высокие продажи    39162.600288  44995.41  33732.890   417   \n",
       "            Маленькие продажи   6449.800673  12135.04   1012.536   392   \n",
       "            Средние продажи    22854.911698  33724.31  12135.820   789   \n",
       "Урал        Высокие продажи    39252.768730  44942.31  33733.070   559   \n",
       "            Маленькие продажи   6636.983200  12115.65   1002.794   580   \n",
       "            Средние продажи    22905.834552  33729.21  12141.220  1138   \n",
       "\n",
       "                                             \n",
       "                                        sum  \n",
       "Region      Sale_group                       \n",
       "Владивосток Высокие продажи    2.823214e+07  \n",
       "            Маленькие продажи  4.642905e+06  \n",
       "            Средние продажи    3.107764e+07  \n",
       "Калиниград  Высокие продажи    2.981133e+07  \n",
       "            Маленькие продажи  5.069059e+06  \n",
       "            Средние продажи    3.704991e+07  \n",
       "Москва      Высокие продажи    1.633080e+07  \n",
       "            Маленькие продажи  2.528322e+06  \n",
       "            Средние продажи    1.803253e+07  \n",
       "Урал        Высокие продажи    2.194230e+07  \n",
       "            Маленькие продажи  3.849450e+06  \n",
       "            Средние продажи    2.606684e+07  "
      ]
     },
     "execution_count": 39,
     "metadata": {},
     "output_type": "execute_result"
    }
   ],
   "source": [
    "trends"
   ]
  },
  {
   "cell_type": "markdown",
   "metadata": {},
   "source": [
    "# Вывод\n",
    "\n",
    "1. Вывод по первому заданию:\n",
    "\n",
    "а) Binders\tPaper Furnishings\tPhones\n",
    "б) Binders\tPaper Furnishings\tPhones\n",
    "в) Binders\tPaper Furnishings\tPhones\n",
    "\n",
    "2. Вывод по второму заданию:\n",
    "\n",
    "90% данных находится между 3268.7 и 42739.35 по значению в столбце Sales\n",
    "\n",
    "3. Вывод по третьему заданию:\n",
    "\n",
    "- построена таблица с трендами по регионам\n",
    "- наиболее прибыльная группа по суммарной выручке – группа \"Средние продажи\" в городе Калининград."
   ]
  }
 ],
 "metadata": {
  "kernelspec": {
   "display_name": "ds_pyvenv",
   "language": "python",
   "name": "python3"
  },
  "language_info": {
   "codemirror_mode": {
    "name": "ipython",
    "version": 3
   },
   "file_extension": ".py",
   "mimetype": "text/x-python",
   "name": "python",
   "nbconvert_exporter": "python",
   "pygments_lexer": "ipython3",
   "version": "3.11.3"
  }
 },
 "nbformat": 4,
 "nbformat_minor": 2
}
